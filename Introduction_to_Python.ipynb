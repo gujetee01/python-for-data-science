{
  "nbformat": 4,
  "nbformat_minor": 0,
  "metadata": {
    "colab": {
      "name": "Introduction to Python.ipynb",
      "provenance": [],
      "authorship_tag": "ABX9TyMbb4mlyj/AS3fySsS1Pqn8",
      "include_colab_link": true
    },
    "kernelspec": {
      "name": "python3",
      "display_name": "Python 3"
    }
  },
  "cells": [
    {
      "cell_type": "markdown",
      "metadata": {
        "id": "view-in-github",
        "colab_type": "text"
      },
      "source": [
        "<a href=\"https://colab.research.google.com/github/gujetee01/python-for-data-science/blob/master/Introduction_to_Python.ipynb\" target=\"_parent\"><img src=\"https://colab.research.google.com/assets/colab-badge.svg\" alt=\"Open In Colab\"/></a>"
      ]
    },
    {
      "cell_type": "code",
      "metadata": {
        "id": "5Hl8eWCprO5c",
        "colab_type": "code",
        "colab": {}
      },
      "source": [
        "name=\"nilesh\""
      ],
      "execution_count": 0,
      "outputs": []
    },
    {
      "cell_type": "markdown",
      "metadata": {
        "id": "4C7nt6SbMHeN",
        "colab_type": "text"
      },
      "source": [
        "This is my first jupyter Notebook"
      ]
    },
    {
      "cell_type": "code",
      "metadata": {
        "id": "XJ_XdHb2ML_I",
        "colab_type": "code",
        "colab": {}
      },
      "source": [
        "name=\"Nilesh\"\n",
        "\n",
        "# This Is String Variable"
      ],
      "execution_count": 0,
      "outputs": []
    },
    {
      "cell_type": "code",
      "metadata": {
        "id": "nJ50TXI_N7hT",
        "colab_type": "code",
        "colab": {
          "base_uri": "https://localhost:8080/",
          "height": 34
        },
        "outputId": "cca575cc-2fed-4cfd-f72d-d58abf43de3c"
      },
      "source": [
        "name"
      ],
      "execution_count": 5,
      "outputs": [
        {
          "output_type": "execute_result",
          "data": {
            "text/plain": [
              "'Nilesh'"
            ]
          },
          "metadata": {
            "tags": []
          },
          "execution_count": 5
        }
      ]
    },
    {
      "cell_type": "code",
      "metadata": {
        "id": "izM5PeD5PG7V",
        "colab_type": "code",
        "colab": {}
      },
      "source": [
        "# form of number\n",
        "\n",
        "age=27"
      ],
      "execution_count": 0,
      "outputs": []
    },
    {
      "cell_type": "code",
      "metadata": {
        "id": "Tr4bg3DWRV1W",
        "colab_type": "code",
        "colab": {
          "base_uri": "https://localhost:8080/",
          "height": 34
        },
        "outputId": "818c5170-c74a-4f0f-fe99-df6ecf08cac2"
      },
      "source": [
        "age"
      ],
      "execution_count": 8,
      "outputs": [
        {
          "output_type": "execute_result",
          "data": {
            "text/plain": [
              "27"
            ]
          },
          "metadata": {
            "tags": []
          },
          "execution_count": 8
        }
      ]
    },
    {
      "cell_type": "code",
      "metadata": {
        "id": "QyWrVQbZRXbu",
        "colab_type": "code",
        "colab": {
          "base_uri": "https://localhost:8080/",
          "height": 51
        },
        "outputId": "5717a564-5c53-4ea4-e5bc-f2860f15690c"
      },
      "source": [
        "# print Multiple numbers\n",
        "\n",
        "print(name)\n",
        "print(age)"
      ],
      "execution_count": 9,
      "outputs": [
        {
          "output_type": "stream",
          "text": [
            "Nilesh\n",
            "27\n"
          ],
          "name": "stdout"
        }
      ]
    },
    {
      "cell_type": "code",
      "metadata": {
        "id": "j72E6VkZSHQ-",
        "colab_type": "code",
        "colab": {}
      },
      "source": [
        "# boolen variables\n",
        "\n",
        "male = True\n",
        "girl = False\n",
        "\n"
      ],
      "execution_count": 0,
      "outputs": []
    },
    {
      "cell_type": "code",
      "metadata": {
        "id": "1Yj2DV1ZTifS",
        "colab_type": "code",
        "colab": {
          "base_uri": "https://localhost:8080/",
          "height": 34
        },
        "outputId": "aa6e77fc-27af-43ae-b601-c32ff7ccd864"
      },
      "source": [
        "male\n"
      ],
      "execution_count": 12,
      "outputs": [
        {
          "output_type": "execute_result",
          "data": {
            "text/plain": [
              "True"
            ]
          },
          "metadata": {
            "tags": []
          },
          "execution_count": 12
        }
      ]
    },
    {
      "cell_type": "code",
      "metadata": {
        "id": "DXcTkSaKTstn",
        "colab_type": "code",
        "colab": {
          "base_uri": "https://localhost:8080/",
          "height": 34
        },
        "outputId": "73b900ee-4532-41e8-bcea-5b2dfa9bc31d"
      },
      "source": [
        "girl"
      ],
      "execution_count": 13,
      "outputs": [
        {
          "output_type": "execute_result",
          "data": {
            "text/plain": [
              "False"
            ]
          },
          "metadata": {
            "tags": []
          },
          "execution_count": 13
        }
      ]
    },
    {
      "cell_type": "code",
      "metadata": {
        "id": "lQT_GiTBTxyc",
        "colab_type": "code",
        "colab": {}
      },
      "source": [
        "# floating Numbers\n",
        "\n",
        "Percentage = 65.30"
      ],
      "execution_count": 0,
      "outputs": []
    },
    {
      "cell_type": "code",
      "metadata": {
        "id": "VyySF0WPUK76",
        "colab_type": "code",
        "colab": {
          "base_uri": "https://localhost:8080/",
          "height": 34
        },
        "outputId": "1b56f06b-c368-452d-d47c-dd54b11d5621"
      },
      "source": [
        "Percentage"
      ],
      "execution_count": 16,
      "outputs": [
        {
          "output_type": "execute_result",
          "data": {
            "text/plain": [
              "65.3"
            ]
          },
          "metadata": {
            "tags": []
          },
          "execution_count": 16
        }
      ]
    },
    {
      "cell_type": "code",
      "metadata": {
        "id": "wfVXRkYIUNKI",
        "colab_type": "code",
        "colab": {}
      },
      "source": [
        " #list of Variab\n",
        " marks=[65.30,59.33,65.22,\"nilesh\",True ]"
      ],
      "execution_count": 0,
      "outputs": []
    },
    {
      "cell_type": "code",
      "metadata": {
        "id": "4XiYuK_kesZE",
        "colab_type": "code",
        "colab": {
          "base_uri": "https://localhost:8080/",
          "height": 34
        },
        "outputId": "b583f322-e3dc-4dec-e2b6-f49ab81c7f7e"
      },
      "source": [
        "#printout the lenghth of list marks\n",
        "\n",
        "len(marks)"
      ],
      "execution_count": 59,
      "outputs": [
        {
          "output_type": "execute_result",
          "data": {
            "text/plain": [
              "5"
            ]
          },
          "metadata": {
            "tags": []
          },
          "execution_count": 59
        }
      ]
    },
    {
      "cell_type": "markdown",
      "metadata": {
        "id": "-9sCmbyFaNc3",
        "colab_type": "text"
      },
      "source": [
        "for list square bracket"
      ]
    },
    {
      "cell_type": "code",
      "metadata": {
        "id": "52VRFNs1VaX8",
        "colab_type": "code",
        "colab": {
          "base_uri": "https://localhost:8080/",
          "height": 34
        },
        "outputId": "2b475dde-9ed9-42e5-d258-c702966ec707"
      },
      "source": [
        "marks"
      ],
      "execution_count": 23,
      "outputs": [
        {
          "output_type": "execute_result",
          "data": {
            "text/plain": [
              "[65.3, 59.33, 65.22, 'nilesh']"
            ]
          },
          "metadata": {
            "tags": []
          },
          "execution_count": 23
        }
      ]
    },
    {
      "cell_type": "code",
      "metadata": {
        "id": "HItMwrPQVnSX",
        "colab_type": "code",
        "colab": {
          "base_uri": "https://localhost:8080/",
          "height": 34
        },
        "outputId": "e9504e42-a5ff-4b82-d0d0-2df23b8ff313"
      },
      "source": [
        "marks[3]"
      ],
      "execution_count": 25,
      "outputs": [
        {
          "output_type": "execute_result",
          "data": {
            "text/plain": [
              "'nilesh'"
            ]
          },
          "metadata": {
            "tags": []
          },
          "execution_count": 25
        }
      ]
    },
    {
      "cell_type": "code",
      "metadata": {
        "id": "UMpssQPpWLrB",
        "colab_type": "code",
        "colab": {}
      },
      "source": [
        "education = {\"tenth\":65, \"twelth\":71,\"graduation\":59,\"Name\" : \"Nilesh Gujetee\", \"male\" : True}"
      ],
      "execution_count": 0,
      "outputs": []
    },
    {
      "cell_type": "markdown",
      "metadata": {
        "id": "DBoMm5I3aIZg",
        "colab_type": "text"
      },
      "source": [
        "for dictionary curly brackets"
      ]
    },
    {
      "cell_type": "code",
      "metadata": {
        "id": "kgKNT5qOX52o",
        "colab_type": "code",
        "colab": {
          "base_uri": "https://localhost:8080/",
          "height": 102
        },
        "outputId": "66721810-7384-423a-be1a-2450178770ee"
      },
      "source": [
        "education"
      ],
      "execution_count": 38,
      "outputs": [
        {
          "output_type": "execute_result",
          "data": {
            "text/plain": [
              "{'Name': 'Nilesh Gujetee',\n",
              " 'graduation': 59,\n",
              " 'male': True,\n",
              " 'tenth': 65,\n",
              " 'twelth': 71}"
            ]
          },
          "metadata": {
            "tags": []
          },
          "execution_count": 38
        }
      ]
    },
    {
      "cell_type": "code",
      "metadata": {
        "id": "sryFldV2Y5N_",
        "colab_type": "code",
        "colab": {
          "base_uri": "https://localhost:8080/",
          "height": 34
        },
        "outputId": "40a8d2c8-e6ea-4d8d-a319-b3055f25836f"
      },
      "source": [
        "#pringt only 10th grade\n",
        "\n",
        "education['Name']"
      ],
      "execution_count": 41,
      "outputs": [
        {
          "output_type": "execute_result",
          "data": {
            "text/plain": [
              "'Nilesh Gujetee'"
            ]
          },
          "metadata": {
            "tags": []
          },
          "execution_count": 41
        }
      ]
    },
    {
      "cell_type": "code",
      "metadata": {
        "id": "M00oVVvcZzOg",
        "colab_type": "code",
        "colab": {
          "base_uri": "https://localhost:8080/",
          "height": 34
        },
        "outputId": "f114eb06-3fbe-47e8-f74f-5489999c0d3e"
      },
      "source": [
        "education.keys()"
      ],
      "execution_count": 42,
      "outputs": [
        {
          "output_type": "execute_result",
          "data": {
            "text/plain": [
              "dict_keys(['tenth', 'twelth', 'graduation', 'Name', 'male'])"
            ]
          },
          "metadata": {
            "tags": []
          },
          "execution_count": 42
        }
      ]
    },
    {
      "cell_type": "code",
      "metadata": {
        "id": "4q_z4MtwaCqu",
        "colab_type": "code",
        "colab": {
          "base_uri": "https://localhost:8080/",
          "height": 34
        },
        "outputId": "6f430ef3-b88e-4058-dd72-29dec07e2621"
      },
      "source": [
        "education.values()"
      ],
      "execution_count": 45,
      "outputs": [
        {
          "output_type": "execute_result",
          "data": {
            "text/plain": [
              "dict_values([65, 71, 59, 'Nilesh Gujetee', True])"
            ]
          },
          "metadata": {
            "tags": []
          },
          "execution_count": 45
        }
      ]
    },
    {
      "cell_type": "code",
      "metadata": {
        "id": "giPthHhXagZX",
        "colab_type": "code",
        "colab": {}
      },
      "source": [
        "# make a dictionary containing a list of marks of 3 students\n",
        "\n",
        "students={ 'stud' : [66,34.54,53],\n",
        "          'stud1': [67,27,34],\n",
        "         'stud2': [98,65,45]}"
      ],
      "execution_count": 0,
      "outputs": []
    },
    {
      "cell_type": "code",
      "metadata": {
        "id": "drU_kX95dD-X",
        "colab_type": "code",
        "colab": {
          "base_uri": "https://localhost:8080/",
          "height": 34
        },
        "outputId": "f4a1ec73-a2e3-408d-d5c5-860b2f237ede"
      },
      "source": [
        "#printout his graduation score\n",
        "\n",
        "students['stud1'][-1]"
      ],
      "execution_count": 52,
      "outputs": [
        {
          "output_type": "execute_result",
          "data": {
            "text/plain": [
              "34"
            ]
          },
          "metadata": {
            "tags": []
          },
          "execution_count": 52
        }
      ]
    },
    {
      "cell_type": "code",
      "metadata": {
        "id": "A7idm9HPb0-u",
        "colab_type": "code",
        "colab": {}
      },
      "source": [
        "friends=[{'name':'nilesh','age': 27},{'name': 'mukesh', 'age': 30}]"
      ],
      "execution_count": 0,
      "outputs": []
    },
    {
      "cell_type": "code",
      "metadata": {
        "id": "HrHPX_Nac1e1",
        "colab_type": "code",
        "colab": {
          "base_uri": "https://localhost:8080/",
          "height": 34
        },
        "outputId": "16fab4e6-ce48-4ff4-cbb8-7f42812b2409"
      },
      "source": [
        "friends[-1]"
      ],
      "execution_count": 53,
      "outputs": [
        {
          "output_type": "execute_result",
          "data": {
            "text/plain": [
              "{'age': 30, 'name': 'mukesh'}"
            ]
          },
          "metadata": {
            "tags": []
          },
          "execution_count": 53
        }
      ]
    },
    {
      "cell_type": "code",
      "metadata": {
        "id": "W5lYOe3LeWOi",
        "colab_type": "code",
        "colab": {
          "base_uri": "https://localhost:8080/",
          "height": 34
        },
        "outputId": "fae7ff64-cb2f-4a74-8618-cf0586f17dfd"
      },
      "source": [
        "type(marks)"
      ],
      "execution_count": 60,
      "outputs": [
        {
          "output_type": "execute_result",
          "data": {
            "text/plain": [
              "list"
            ]
          },
          "metadata": {
            "tags": []
          },
          "execution_count": 60
        }
      ]
    },
    {
      "cell_type": "code",
      "metadata": {
        "id": "L2acvugjgEs6",
        "colab_type": "code",
        "colab": {
          "base_uri": "https://localhost:8080/",
          "height": 34
        },
        "outputId": "7ca22345-36d4-483c-c4d0-467483161189"
      },
      "source": [
        "type(friends[0])"
      ],
      "execution_count": 62,
      "outputs": [
        {
          "output_type": "execute_result",
          "data": {
            "text/plain": [
              "dict"
            ]
          },
          "metadata": {
            "tags": []
          },
          "execution_count": 62
        }
      ]
    },
    {
      "cell_type": "code",
      "metadata": {
        "id": "wTejQCpFgK1O",
        "colab_type": "code",
        "colab": {}
      },
      "source": [
        "#create a list of friends and print it add 4th friend\n",
        "\n",
        "myfriend=['nilesh','haresh','mukesh']"
      ],
      "execution_count": 0,
      "outputs": []
    },
    {
      "cell_type": "code",
      "metadata": {
        "id": "HQnR371uivfx",
        "colab_type": "code",
        "colab": {
          "base_uri": "https://localhost:8080/",
          "height": 34
        },
        "outputId": "f21e6355-abe0-49bc-acda-a60b55fc8970"
      },
      "source": [
        "myfriend"
      ],
      "execution_count": 66,
      "outputs": [
        {
          "output_type": "execute_result",
          "data": {
            "text/plain": [
              "['nilesh', 'haresh', 'mukesh']"
            ]
          },
          "metadata": {
            "tags": []
          },
          "execution_count": 66
        }
      ]
    },
    {
      "cell_type": "code",
      "metadata": {
        "id": "Vtz-Iknli0B-",
        "colab_type": "code",
        "colab": {}
      },
      "source": [
        "myfriend.append('ankit')"
      ],
      "execution_count": 0,
      "outputs": []
    },
    {
      "cell_type": "code",
      "metadata": {
        "id": "_OX8LGaUjSIT",
        "colab_type": "code",
        "colab": {
          "base_uri": "https://localhost:8080/",
          "height": 34
        },
        "outputId": "46fd88c1-ad9c-47a0-971a-a78994a3bb69"
      },
      "source": [
        "myfriend"
      ],
      "execution_count": 70,
      "outputs": [
        {
          "output_type": "execute_result",
          "data": {
            "text/plain": [
              "['nilesh', 'haresh', 'mukesh', 'ankit']"
            ]
          },
          "metadata": {
            "tags": []
          },
          "execution_count": 70
        }
      ]
    },
    {
      "cell_type": "code",
      "metadata": {
        "id": "sL4KJK35jeLS",
        "colab_type": "code",
        "colab": {}
      },
      "source": [
        "friends.append({'name':'ankit'})"
      ],
      "execution_count": 0,
      "outputs": []
    },
    {
      "cell_type": "code",
      "metadata": {
        "id": "zrXRhYq6j_N3",
        "colab_type": "code",
        "colab": {
          "base_uri": "https://localhost:8080/",
          "height": 68
        },
        "outputId": "7ea9e00f-cca8-4090-e5a6-dc2416ebecd5"
      },
      "source": [
        "friends"
      ],
      "execution_count": 72,
      "outputs": [
        {
          "output_type": "execute_result",
          "data": {
            "text/plain": [
              "[{'age': 27, 'name': 'nilesh'},\n",
              " {'age': 30, 'name': 'mukesh'},\n",
              " {'name': 'ankit'}]"
            ]
          },
          "metadata": {
            "tags": []
          },
          "execution_count": 72
        }
      ]
    },
    {
      "cell_type": "code",
      "metadata": {
        "id": "WOazbhldkBIi",
        "colab_type": "code",
        "colab": {}
      },
      "source": [
        "myfriend[0]='omkar'"
      ],
      "execution_count": 0,
      "outputs": []
    },
    {
      "cell_type": "code",
      "metadata": {
        "id": "QlvBbuR0lDyB",
        "colab_type": "code",
        "colab": {
          "base_uri": "https://localhost:8080/",
          "height": 34
        },
        "outputId": "69516a77-e3a7-4e42-a7c7-09ceae085325"
      },
      "source": [
        "myfriend"
      ],
      "execution_count": 75,
      "outputs": [
        {
          "output_type": "execute_result",
          "data": {
            "text/plain": [
              "['omkar', 'haresh', 'mukesh', 'ankit']"
            ]
          },
          "metadata": {
            "tags": []
          },
          "execution_count": 75
        }
      ]
    },
    {
      "cell_type": "code",
      "metadata": {
        "id": "o-9DYgvd5qUB",
        "colab_type": "code",
        "colab": {}
      },
      "source": [
        ""
      ],
      "execution_count": 0,
      "outputs": []
    }
  ]
}